{
 "cells": [
  {
   "cell_type": "code",
   "execution_count": 8,
   "metadata": {},
   "outputs": [
    {
     "ename": "InvalidSelectorException",
     "evalue": "Message: invalid selector: An invalid or illegal selector was specified\n  (Session info: MicrosoftEdge=116.0.1938.62); For documentation on this error, please visit: https://www.selenium.dev/documentation/webdriver/troubleshooting/errors#invalid-selector-exception\nStacktrace:\n\tGetHandleVerifier [0x00007FF716753D72+61490]\n\tMicrosoft::Applications::Events::EventProperty::~EventProperty [0x00007FF7166E5FC2+740594]\n\t(No symbol) [0x00007FF7164BB8AE]\n\t(No symbol) [0x00007FF7164C0340]\n\t(No symbol) [0x00007FF7164C2829]\n\t(No symbol) [0x00007FF7164C2910]\n\t(No symbol) [0x00007FF716502FDB]\n\t(No symbol) [0x00007FF716503405]\n\t(No symbol) [0x00007FF71653FCE7]\n\t(No symbol) [0x00007FF71652394F]\n\t(No symbol) [0x00007FF7164F7021]\n\t(No symbol) [0x00007FF71653CE21]\n\t(No symbol) [0x00007FF7165236E3]\n\t(No symbol) [0x00007FF7164F5EAA]\n\t(No symbol) [0x00007FF7164F518B]\n\t(No symbol) [0x00007FF7164F6634]\n\tMicrosoft::Applications::Events::ILogManager::DispatchEventBroadcast [0x00007FF716918D29+1207369]\n\t(No symbol) [0x00007FF716575304]\n\tMicrosoft::Applications::Events::EventProperty::~EventProperty [0x00007FF7166390E1+32273]\n\tMicrosoft::Applications::Events::EventProperty::~EventProperty [0x00007FF7166319D9+1801]\n\tMicrosoft::Applications::Events::ILogManager::DispatchEventBroadcast [0x00007FF716917904+1202212]\n\tMicrosoft::Applications::Events::ILogConfiguration::operator* [0x00007FF7166EE958+19784]\n\tMicrosoft::Applications::Events::ILogConfiguration::operator* [0x00007FF7166EAE14+4612]\n\tMicrosoft::Applications::Events::ILogConfiguration::operator* [0x00007FF7166EAF46+4918]\n\tMicrosoft::Applications::Events::EventProperty::~EventProperty [0x00007FF7166DF411+713025]\n\tBaseThreadInitThunk [0x00007FFEAA6C26AD+29]\n\tRtlUserThreadStart [0x00007FFEAAB8AA68+40]\n",
     "output_type": "error",
     "traceback": [
      "\u001b[1;31m---------------------------------------------------------------------------\u001b[0m",
      "\u001b[1;31mInvalidSelectorException\u001b[0m                  Traceback (most recent call last)",
      "Cell \u001b[1;32mIn[8], line 11\u001b[0m\n\u001b[0;32m      7\u001b[0m driver \u001b[39m=\u001b[39m webdriver\u001b[39m.\u001b[39mEdge()\n\u001b[0;32m      9\u001b[0m driver\u001b[39m.\u001b[39mget(\u001b[39m\"\u001b[39m\u001b[39mhttps://s2-internet.sefaz.es.gov.br/certidao/cnd\u001b[39m\u001b[39m\"\u001b[39m)\n\u001b[1;32m---> 11\u001b[0m revealed \u001b[39m=\u001b[39m driver\u001b[39m.\u001b[39;49mfind_element(By\u001b[39m.\u001b[39;49mID, \u001b[39m'\u001b[39;49m\u001b[39m\"\u001b[39;49m\u001b[39mbtn-emitir-certidao\u001b[39;49m\u001b[39m\"\u001b[39;49m\u001b[39m'\u001b[39;49m)\n\u001b[0;32m     12\u001b[0m wait \u001b[39m=\u001b[39m WebDriverWait(driver, timeout\u001b[39m=\u001b[39m\u001b[39m2\u001b[39m)\n\u001b[0;32m     13\u001b[0m wait\u001b[39m.\u001b[39muntil(\u001b[39mlambda\u001b[39;00m d : revealed\u001b[39m.\u001b[39mis_displayed())\n",
      "File \u001b[1;32mc:\\Users\\joaop\\AppData\\Local\\Programs\\Python\\Python311\\Lib\\site-packages\\selenium\\webdriver\\remote\\webdriver.py:739\u001b[0m, in \u001b[0;36mWebDriver.find_element\u001b[1;34m(self, by, value)\u001b[0m\n\u001b[0;32m    736\u001b[0m     by \u001b[39m=\u001b[39m By\u001b[39m.\u001b[39mCSS_SELECTOR\n\u001b[0;32m    737\u001b[0m     value \u001b[39m=\u001b[39m \u001b[39mf\u001b[39m\u001b[39m'\u001b[39m\u001b[39m[name=\u001b[39m\u001b[39m\"\u001b[39m\u001b[39m{\u001b[39;00mvalue\u001b[39m}\u001b[39;00m\u001b[39m\"\u001b[39m\u001b[39m]\u001b[39m\u001b[39m'\u001b[39m\n\u001b[1;32m--> 739\u001b[0m \u001b[39mreturn\u001b[39;00m \u001b[39mself\u001b[39;49m\u001b[39m.\u001b[39;49mexecute(Command\u001b[39m.\u001b[39;49mFIND_ELEMENT, {\u001b[39m\"\u001b[39;49m\u001b[39musing\u001b[39;49m\u001b[39m\"\u001b[39;49m: by, \u001b[39m\"\u001b[39;49m\u001b[39mvalue\u001b[39;49m\u001b[39m\"\u001b[39;49m: value})[\u001b[39m\"\u001b[39m\u001b[39mvalue\u001b[39m\u001b[39m\"\u001b[39m]\n",
      "File \u001b[1;32mc:\\Users\\joaop\\AppData\\Local\\Programs\\Python\\Python311\\Lib\\site-packages\\selenium\\webdriver\\remote\\webdriver.py:345\u001b[0m, in \u001b[0;36mWebDriver.execute\u001b[1;34m(self, driver_command, params)\u001b[0m\n\u001b[0;32m    343\u001b[0m response \u001b[39m=\u001b[39m \u001b[39mself\u001b[39m\u001b[39m.\u001b[39mcommand_executor\u001b[39m.\u001b[39mexecute(driver_command, params)\n\u001b[0;32m    344\u001b[0m \u001b[39mif\u001b[39;00m response:\n\u001b[1;32m--> 345\u001b[0m     \u001b[39mself\u001b[39;49m\u001b[39m.\u001b[39;49merror_handler\u001b[39m.\u001b[39;49mcheck_response(response)\n\u001b[0;32m    346\u001b[0m     response[\u001b[39m\"\u001b[39m\u001b[39mvalue\u001b[39m\u001b[39m\"\u001b[39m] \u001b[39m=\u001b[39m \u001b[39mself\u001b[39m\u001b[39m.\u001b[39m_unwrap_value(response\u001b[39m.\u001b[39mget(\u001b[39m\"\u001b[39m\u001b[39mvalue\u001b[39m\u001b[39m\"\u001b[39m, \u001b[39mNone\u001b[39;00m))\n\u001b[0;32m    347\u001b[0m     \u001b[39mreturn\u001b[39;00m response\n",
      "File \u001b[1;32mc:\\Users\\joaop\\AppData\\Local\\Programs\\Python\\Python311\\Lib\\site-packages\\selenium\\webdriver\\remote\\errorhandler.py:229\u001b[0m, in \u001b[0;36mErrorHandler.check_response\u001b[1;34m(self, response)\u001b[0m\n\u001b[0;32m    227\u001b[0m         alert_text \u001b[39m=\u001b[39m value[\u001b[39m\"\u001b[39m\u001b[39malert\u001b[39m\u001b[39m\"\u001b[39m]\u001b[39m.\u001b[39mget(\u001b[39m\"\u001b[39m\u001b[39mtext\u001b[39m\u001b[39m\"\u001b[39m)\n\u001b[0;32m    228\u001b[0m     \u001b[39mraise\u001b[39;00m exception_class(message, screen, stacktrace, alert_text)  \u001b[39m# type: ignore[call-arg]  # mypy is not smart enough here\u001b[39;00m\n\u001b[1;32m--> 229\u001b[0m \u001b[39mraise\u001b[39;00m exception_class(message, screen, stacktrace)\n",
      "\u001b[1;31mInvalidSelectorException\u001b[0m: Message: invalid selector: An invalid or illegal selector was specified\n  (Session info: MicrosoftEdge=116.0.1938.62); For documentation on this error, please visit: https://www.selenium.dev/documentation/webdriver/troubleshooting/errors#invalid-selector-exception\nStacktrace:\n\tGetHandleVerifier [0x00007FF716753D72+61490]\n\tMicrosoft::Applications::Events::EventProperty::~EventProperty [0x00007FF7166E5FC2+740594]\n\t(No symbol) [0x00007FF7164BB8AE]\n\t(No symbol) [0x00007FF7164C0340]\n\t(No symbol) [0x00007FF7164C2829]\n\t(No symbol) [0x00007FF7164C2910]\n\t(No symbol) [0x00007FF716502FDB]\n\t(No symbol) [0x00007FF716503405]\n\t(No symbol) [0x00007FF71653FCE7]\n\t(No symbol) [0x00007FF71652394F]\n\t(No symbol) [0x00007FF7164F7021]\n\t(No symbol) [0x00007FF71653CE21]\n\t(No symbol) [0x00007FF7165236E3]\n\t(No symbol) [0x00007FF7164F5EAA]\n\t(No symbol) [0x00007FF7164F518B]\n\t(No symbol) [0x00007FF7164F6634]\n\tMicrosoft::Applications::Events::ILogManager::DispatchEventBroadcast [0x00007FF716918D29+1207369]\n\t(No symbol) [0x00007FF716575304]\n\tMicrosoft::Applications::Events::EventProperty::~EventProperty [0x00007FF7166390E1+32273]\n\tMicrosoft::Applications::Events::EventProperty::~EventProperty [0x00007FF7166319D9+1801]\n\tMicrosoft::Applications::Events::ILogManager::DispatchEventBroadcast [0x00007FF716917904+1202212]\n\tMicrosoft::Applications::Events::ILogConfiguration::operator* [0x00007FF7166EE958+19784]\n\tMicrosoft::Applications::Events::ILogConfiguration::operator* [0x00007FF7166EAE14+4612]\n\tMicrosoft::Applications::Events::ILogConfiguration::operator* [0x00007FF7166EAF46+4918]\n\tMicrosoft::Applications::Events::EventProperty::~EventProperty [0x00007FF7166DF411+713025]\n\tBaseThreadInitThunk [0x00007FFEAA6C26AD+29]\n\tRtlUserThreadStart [0x00007FFEAAB8AA68+40]\n"
     ]
    }
   ],
   "source": [
    "from selenium import webdriver\n",
    "from selenium.webdriver.edge.service import Service\n",
    "from selenium.webdriver.common.by import By\n",
    "import time\n",
    "from selenium.webdriver.support.wait import WebDriverWait\n",
    "\n",
    "driver = webdriver.Edge()\n",
    "\n",
    "driver.get(\"https://s2-internet.sefaz.es.gov.br/certidao/cnd\")\n",
    "\n",
    "revealed = driver.find_element(By.ID, '\"btn-emitir-certidao\"')\n",
    "wait = WebDriverWait(driver, timeout=2)\n",
    "wait.until(lambda d : revealed.is_displayed())\n",
    "\n",
    "driver.find_element(By.ID, '\"btn-emitir-certidao\"').click()\n",
    "\n",
    "\n",
    "#//*[@id=\"btn-emitir-certidao"
   ]
  }
 ],
 "metadata": {
  "kernelspec": {
   "display_name": "Python 3",
   "language": "python",
   "name": "python3"
  },
  "language_info": {
   "codemirror_mode": {
    "name": "ipython",
    "version": 3
   },
   "file_extension": ".py",
   "mimetype": "text/x-python",
   "name": "python",
   "nbconvert_exporter": "python",
   "pygments_lexer": "ipython3",
   "version": "3.11.5"
  },
  "orig_nbformat": 4
 },
 "nbformat": 4,
 "nbformat_minor": 2
}
