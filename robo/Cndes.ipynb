{
 "cells": [
  {
   "cell_type": "code",
   "execution_count": 13,
   "metadata": {},
   "outputs": [
    {
     "ename": "NoSuchElementException",
     "evalue": "Message: no such element: Unable to locate element: {\"method\":\"xpath\",\"selector\":\"//*[@id=\"numIdentificacao\"]\"}\n  (Session info: MicrosoftEdge=116.0.1938.62); For documentation on this error, please visit: https://www.selenium.dev/documentation/webdriver/troubleshooting/errors#no-such-element-exception\nStacktrace:\n\tGetHandleVerifier [0x00007FF61A233D72+61490]\n\tMicrosoft::Applications::Events::EventProperty::~EventProperty [0x00007FF61A1C5FC2+740594]\n\t(No symbol) [0x00007FF619F9B8AE]\n\t(No symbol) [0x00007FF619FE32F4]\n\t(No symbol) [0x00007FF619FE3405]\n\t(No symbol) [0x00007FF61A01FCE7]\n\t(No symbol) [0x00007FF61A00394F]\n\t(No symbol) [0x00007FF619FD7021]\n\t(No symbol) [0x00007FF61A01CE21]\n\t(No symbol) [0x00007FF61A0036E3]\n\t(No symbol) [0x00007FF619FD5EAA]\n\t(No symbol) [0x00007FF619FD518B]\n\t(No symbol) [0x00007FF619FD6634]\n\tMicrosoft::Applications::Events::ILogManager::DispatchEventBroadcast [0x00007FF61A3F8D29+1207369]\n\t(No symbol) [0x00007FF61A055304]\n\tMicrosoft::Applications::Events::EventProperty::~EventProperty [0x00007FF61A1190E1+32273]\n\tMicrosoft::Applications::Events::EventProperty::~EventProperty [0x00007FF61A1119D9+1801]\n\tMicrosoft::Applications::Events::ILogManager::DispatchEventBroadcast [0x00007FF61A3F7904+1202212]\n\tMicrosoft::Applications::Events::ILogConfiguration::operator* [0x00007FF61A1CE958+19784]\n\tMicrosoft::Applications::Events::ILogConfiguration::operator* [0x00007FF61A1CAE14+4612]\n\tMicrosoft::Applications::Events::ILogConfiguration::operator* [0x00007FF61A1CAF46+4918]\n\tMicrosoft::Applications::Events::EventProperty::~EventProperty [0x00007FF61A1BF411+713025]\n\tBaseThreadInitThunk [0x00007FFAE92253E0+16]\n\tRtlUserThreadStart [0x00007FFAEA9C485B+43]\n",
     "output_type": "error",
     "traceback": [
      "\u001b[1;31m---------------------------------------------------------------------------\u001b[0m",
      "\u001b[1;31mNoSuchElementException\u001b[0m                    Traceback (most recent call last)",
      "Cell \u001b[1;32mIn[13], line 17\u001b[0m\n\u001b[0;32m     11\u001b[0m driver\u001b[39m.\u001b[39mfind_element(By\u001b[39m.\u001b[39mXPATH, \u001b[39m'\u001b[39m\u001b[39m//*[@id=\u001b[39m\u001b[39m\"\u001b[39m\u001b[39msidebar-wrapper\u001b[39m\u001b[39m\"\u001b[39m\u001b[39m]/ul/li[2]\u001b[39m\u001b[39m'\u001b[39m)\u001b[39m.\u001b[39mclick()\n\u001b[0;32m     13\u001b[0m \u001b[39m#revealed = driver.find_element(By.ID, '\"btn-emitir-certidao\"')\u001b[39;00m\n\u001b[0;32m     14\u001b[0m \u001b[39m#wait = WebDriverWait(driver, timeout=2)\u001b[39;00m\n\u001b[0;32m     15\u001b[0m \u001b[39m#wait.until(lambda d : revealed.is_displayed())\u001b[39;00m\n\u001b[1;32m---> 17\u001b[0m driver\u001b[39m.\u001b[39;49mfind_element(By\u001b[39m.\u001b[39;49mXPATH, \u001b[39m'\u001b[39;49m\u001b[39m//*[@id=\u001b[39;49m\u001b[39m\"\u001b[39;49m\u001b[39mnumIdentificacao\u001b[39;49m\u001b[39m\"\u001b[39;49m\u001b[39m]\u001b[39;49m\u001b[39m'\u001b[39;49m)\u001b[39m.\u001b[39msend_keys(\u001b[39m'\u001b[39m\u001b[39m12737706769\u001b[39m\u001b[39m'\u001b[39m)\n\u001b[0;32m     19\u001b[0m \u001b[39m#driver.find_element(By.ID, '\"btn-emitir-certidao\"').click()\u001b[39;00m\n\u001b[0;32m     20\u001b[0m \n\u001b[0;32m     21\u001b[0m \n\u001b[1;32m   (...)\u001b[0m\n\u001b[0;32m     24\u001b[0m \n\u001b[0;32m     25\u001b[0m \u001b[39m#//*[@id=\"btn-emitir-certidao\u001b[39;00m\n",
      "File \u001b[1;32mc:\\Projetos\\env\\coleta_dados\\Lib\\site-packages\\selenium\\webdriver\\remote\\webdriver.py:739\u001b[0m, in \u001b[0;36mWebDriver.find_element\u001b[1;34m(self, by, value)\u001b[0m\n\u001b[0;32m    736\u001b[0m     by \u001b[39m=\u001b[39m By\u001b[39m.\u001b[39mCSS_SELECTOR\n\u001b[0;32m    737\u001b[0m     value \u001b[39m=\u001b[39m \u001b[39mf\u001b[39m\u001b[39m'\u001b[39m\u001b[39m[name=\u001b[39m\u001b[39m\"\u001b[39m\u001b[39m{\u001b[39;00mvalue\u001b[39m}\u001b[39;00m\u001b[39m\"\u001b[39m\u001b[39m]\u001b[39m\u001b[39m'\u001b[39m\n\u001b[1;32m--> 739\u001b[0m \u001b[39mreturn\u001b[39;00m \u001b[39mself\u001b[39;49m\u001b[39m.\u001b[39;49mexecute(Command\u001b[39m.\u001b[39;49mFIND_ELEMENT, {\u001b[39m\"\u001b[39;49m\u001b[39musing\u001b[39;49m\u001b[39m\"\u001b[39;49m: by, \u001b[39m\"\u001b[39;49m\u001b[39mvalue\u001b[39;49m\u001b[39m\"\u001b[39;49m: value})[\u001b[39m\"\u001b[39m\u001b[39mvalue\u001b[39m\u001b[39m\"\u001b[39m]\n",
      "File \u001b[1;32mc:\\Projetos\\env\\coleta_dados\\Lib\\site-packages\\selenium\\webdriver\\remote\\webdriver.py:345\u001b[0m, in \u001b[0;36mWebDriver.execute\u001b[1;34m(self, driver_command, params)\u001b[0m\n\u001b[0;32m    343\u001b[0m response \u001b[39m=\u001b[39m \u001b[39mself\u001b[39m\u001b[39m.\u001b[39mcommand_executor\u001b[39m.\u001b[39mexecute(driver_command, params)\n\u001b[0;32m    344\u001b[0m \u001b[39mif\u001b[39;00m response:\n\u001b[1;32m--> 345\u001b[0m     \u001b[39mself\u001b[39;49m\u001b[39m.\u001b[39;49merror_handler\u001b[39m.\u001b[39;49mcheck_response(response)\n\u001b[0;32m    346\u001b[0m     response[\u001b[39m\"\u001b[39m\u001b[39mvalue\u001b[39m\u001b[39m\"\u001b[39m] \u001b[39m=\u001b[39m \u001b[39mself\u001b[39m\u001b[39m.\u001b[39m_unwrap_value(response\u001b[39m.\u001b[39mget(\u001b[39m\"\u001b[39m\u001b[39mvalue\u001b[39m\u001b[39m\"\u001b[39m, \u001b[39mNone\u001b[39;00m))\n\u001b[0;32m    347\u001b[0m     \u001b[39mreturn\u001b[39;00m response\n",
      "File \u001b[1;32mc:\\Projetos\\env\\coleta_dados\\Lib\\site-packages\\selenium\\webdriver\\remote\\errorhandler.py:229\u001b[0m, in \u001b[0;36mErrorHandler.check_response\u001b[1;34m(self, response)\u001b[0m\n\u001b[0;32m    227\u001b[0m         alert_text \u001b[39m=\u001b[39m value[\u001b[39m\"\u001b[39m\u001b[39malert\u001b[39m\u001b[39m\"\u001b[39m]\u001b[39m.\u001b[39mget(\u001b[39m\"\u001b[39m\u001b[39mtext\u001b[39m\u001b[39m\"\u001b[39m)\n\u001b[0;32m    228\u001b[0m     \u001b[39mraise\u001b[39;00m exception_class(message, screen, stacktrace, alert_text)  \u001b[39m# type: ignore[call-arg]  # mypy is not smart enough here\u001b[39;00m\n\u001b[1;32m--> 229\u001b[0m \u001b[39mraise\u001b[39;00m exception_class(message, screen, stacktrace)\n",
      "\u001b[1;31mNoSuchElementException\u001b[0m: Message: no such element: Unable to locate element: {\"method\":\"xpath\",\"selector\":\"//*[@id=\"numIdentificacao\"]\"}\n  (Session info: MicrosoftEdge=116.0.1938.62); For documentation on this error, please visit: https://www.selenium.dev/documentation/webdriver/troubleshooting/errors#no-such-element-exception\nStacktrace:\n\tGetHandleVerifier [0x00007FF61A233D72+61490]\n\tMicrosoft::Applications::Events::EventProperty::~EventProperty [0x00007FF61A1C5FC2+740594]\n\t(No symbol) [0x00007FF619F9B8AE]\n\t(No symbol) [0x00007FF619FE32F4]\n\t(No symbol) [0x00007FF619FE3405]\n\t(No symbol) [0x00007FF61A01FCE7]\n\t(No symbol) [0x00007FF61A00394F]\n\t(No symbol) [0x00007FF619FD7021]\n\t(No symbol) [0x00007FF61A01CE21]\n\t(No symbol) [0x00007FF61A0036E3]\n\t(No symbol) [0x00007FF619FD5EAA]\n\t(No symbol) [0x00007FF619FD518B]\n\t(No symbol) [0x00007FF619FD6634]\n\tMicrosoft::Applications::Events::ILogManager::DispatchEventBroadcast [0x00007FF61A3F8D29+1207369]\n\t(No symbol) [0x00007FF61A055304]\n\tMicrosoft::Applications::Events::EventProperty::~EventProperty [0x00007FF61A1190E1+32273]\n\tMicrosoft::Applications::Events::EventProperty::~EventProperty [0x00007FF61A1119D9+1801]\n\tMicrosoft::Applications::Events::ILogManager::DispatchEventBroadcast [0x00007FF61A3F7904+1202212]\n\tMicrosoft::Applications::Events::ILogConfiguration::operator* [0x00007FF61A1CE958+19784]\n\tMicrosoft::Applications::Events::ILogConfiguration::operator* [0x00007FF61A1CAE14+4612]\n\tMicrosoft::Applications::Events::ILogConfiguration::operator* [0x00007FF61A1CAF46+4918]\n\tMicrosoft::Applications::Events::EventProperty::~EventProperty [0x00007FF61A1BF411+713025]\n\tBaseThreadInitThunk [0x00007FFAE92253E0+16]\n\tRtlUserThreadStart [0x00007FFAEA9C485B+43]\n"
     ]
    }
   ],
   "source": [
    "from selenium import webdriver\n",
    "from selenium.webdriver.edge.service import Service\n",
    "from selenium.webdriver.common.by import By\n",
    "import time\n",
    "from selenium.webdriver.support.wait import WebDriverWait\n",
    "\n",
    "driver = webdriver.Edge()\n",
    "\n",
    "driver.get(\"https://s2-internet.sefaz.es.gov.br/certidao/cnd\")\n",
    "\n",
    "driver.find_element(By.XPATH, '//*[@id=\"sidebar-wrapper\"]/ul/li[2]').click()\n",
    "\n",
    "#revealed = driver.find_element(By.ID, '\"btn-emitir-certidao\"')\n",
    "#wait = WebDriverWait(driver, timeout=2)\n",
    "#wait.until(lambda d : revealed.is_displayed())\n",
    "\n",
    "driver.find_element(By.XPATH, '//*[@id=\"numIdentificacao\"]').send_keys('12737706769')\n",
    "\n",
    "#driver.find_element(By.ID, '\"btn-emitir-certidao\"').click()\n",
    "\n",
    "\n",
    "\n",
    "\n",
    "\n",
    "#//*[@id=\"btn-emitir-certidao"
   ]
  }
 ],
 "metadata": {
  "kernelspec": {
   "display_name": "Python 3",
   "language": "python",
   "name": "python3"
  },
  "language_info": {
   "codemirror_mode": {
    "name": "ipython",
    "version": 3
   },
   "file_extension": ".py",
   "mimetype": "text/x-python",
   "name": "python",
   "nbconvert_exporter": "python",
   "pygments_lexer": "ipython3",
   "version": "3.11.4"
  },
  "orig_nbformat": 4
 },
 "nbformat": 4,
 "nbformat_minor": 2
}
